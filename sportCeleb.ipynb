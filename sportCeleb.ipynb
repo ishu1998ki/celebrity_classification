{
 "cells": [
  {
   "cell_type": "code",
   "execution_count": 2,
   "id": "initial_id",
   "metadata": {
    "collapsed": true,
    "ExecuteTime": {
     "end_time": "2025-05-29T12:48:43.433768Z",
     "start_time": "2025-05-29T12:48:43.418018600Z"
    }
   },
   "outputs": [],
   "source": [
    "import numpy as np\n",
    "import cv2 \n",
    "import matplotlib\n",
    "from matplotlib import pyplot as plt"
   ]
  },
  {
   "cell_type": "code",
   "execution_count": 3,
   "outputs": [],
   "source": [
    "# If we need to check shape of the image\n",
    "# img = cv2.imread('Dataset/Due_Lipa/293d1b64633207b19316514969b45c8e.jpeg', cv2.IMREAD_UNCHANGED)\n",
    "# img.shape"
   ],
   "metadata": {
    "collapsed": false,
    "ExecuteTime": {
     "end_time": "2025-05-29T12:48:47.925696500Z",
     "start_time": "2025-05-29T12:48:47.919513500Z"
    }
   },
   "id": "4b3d6e6e90a761e9"
  },
  {
   "cell_type": "code",
   "execution_count": 4,
   "outputs": [],
   "source": [
    "# When need to open the image from a window\n",
    "# cv2.imshow('Original Image', img)\n",
    "# cv2.waitKey(0)  # Wait for a key press\n",
    "# cv2.destroyAllWindows()"
   ],
   "metadata": {
    "collapsed": false,
    "ExecuteTime": {
     "end_time": "2025-05-29T12:48:48.719789800Z",
     "start_time": "2025-05-29T12:48:48.717606400Z"
    }
   },
   "id": "e8e4a280f1e94a88"
  },
  {
   "cell_type": "code",
   "execution_count": 5,
   "outputs": [],
   "source": [
    "#if need to change image color into gray\n",
    "# gray_img = cv2.cvtColor(img, cv2.COLOR_BGR2GRAY)\n",
    "# gray_img.shape\n",
    "# plt.imshow(gray_img, cmap='gray')"
   ],
   "metadata": {
    "collapsed": false,
    "ExecuteTime": {
     "end_time": "2025-05-29T12:48:49.122137Z",
     "start_time": "2025-05-29T12:48:49.122137Z"
    }
   },
   "id": "f54ec326416ae255"
  },
  {
   "cell_type": "code",
   "execution_count": 6,
   "outputs": [],
   "source": [
    "face_cascade = cv2.CascadeClassifier('./opencv/haarcascade_frontalface_default.xml')\n",
    "eye_cascade = cv2.CascadeClassifier('./opencv/haarcascade_eye.xml')\n",
    "\n",
    "# **** To detect face from one image ****\n",
    "# faces = face_cascade.detectMultiScale(\n",
    "#     img, scaleFactor=1.05, minNeighbors=2, minSize=(100, 100)\n",
    "# )\n",
    "# # faces"
   ],
   "metadata": {
    "collapsed": false,
    "ExecuteTime": {
     "end_time": "2025-05-29T12:48:49.636515300Z",
     "start_time": "2025-05-29T12:48:49.609999800Z"
    }
   },
   "id": "4ba9fd4df06f1e0f"
  },
  {
   "cell_type": "code",
   "execution_count": 7,
   "outputs": [],
   "source": [
    "# (x,y,w,h) = faces[0]\n",
    "# x,y,w,h"
   ],
   "metadata": {
    "collapsed": false,
    "ExecuteTime": {
     "end_time": "2025-05-29T12:48:51.157539200Z",
     "start_time": "2025-05-29T12:48:51.157539200Z"
    }
   },
   "id": "f1e6342563bedc64"
  },
  {
   "cell_type": "code",
   "execution_count": 8,
   "outputs": [],
   "source": [
    "# **** To draw a rectangle around the face ****\n",
    "# face_img = cv2.rectangle(img,(x,y),(x+w,y+h),(255,0,0),2)\n",
    "# plt.imshow(face_img)"
   ],
   "metadata": {
    "collapsed": false,
    "ExecuteTime": {
     "end_time": "2025-05-29T12:48:52.001811100Z",
     "start_time": "2025-05-29T12:48:51.986684300Z"
    }
   },
   "id": "c6fa13428bfc26ce"
  },
  {
   "cell_type": "code",
   "execution_count": 9,
   "outputs": [],
   "source": [
    "# **** To draw rectangles around the face and eyes ****\n",
    "# cv2.destroyAllWindows()\n",
    "# for (x,y,w,h) in faces:\n",
    "#     face_img = cv2.rectangle(img,(x,y),(x+w,y+h),(255,0,0),2)\n",
    "#     roi_img = img[y:y+h, x:x+w]     # roi = region of interest\n",
    "#     roi_color = face_img[y:y+h, x:x+w]\n",
    "#     eyes = eye_cascade.detectMultiScale(roi_img)\n",
    "#     for (ex,ey,ew,eh) in eyes:\n",
    "#         cv2.rectangle(roi_color,(ex,ey),(ex+ew,ey+eh),(0,255,0),2)\n",
    "#         \n",
    "# plt.figure()\n",
    "# plt.imshow(face_img, cmap='gray')\n",
    "# plt.show"
   ],
   "metadata": {
    "collapsed": false,
    "ExecuteTime": {
     "end_time": "2025-05-29T12:48:56.214932Z",
     "start_time": "2025-05-29T12:48:56.210333200Z"
    }
   },
   "id": "e4c17601893e3cda"
  },
  {
   "cell_type": "code",
   "execution_count": 10,
   "outputs": [],
   "source": [
    "# **** to get only the crop image ****\n",
    "# %matplotlib inline\n",
    "# plt.imshow(roi_color, cmap='gray')"
   ],
   "metadata": {
    "collapsed": false,
    "ExecuteTime": {
     "end_time": "2025-05-29T12:48:58.158200300Z",
     "start_time": "2025-05-29T12:48:58.156894400Z"
    }
   },
   "id": "45e51f586f6e13ab"
  },
  {
   "cell_type": "code",
   "execution_count": 16,
   "outputs": [],
   "source": [
    "# A function for get cropped image from face identified images\n",
    "def get_cropped_image(img_path):\n",
    "    img = cv2.imread(img_path)\n",
    "    faces = face_cascade.detectMultiScale(img, scaleFactor=1.05, minNeighbors=2, minSize=(100, 100))\n",
    "    for (x,y,w,h) in faces:\n",
    "    # face_img = cv2.rectangle(img,(x,y),(x+w,y+h),(255,0,0),2)\n",
    "        roi_img = img[y:y+h, x:x+w]     # roi = region of interest\n",
    "        roi_color = img[y:y+h, x:x+w]\n",
    "        eyes = eye_cascade.detectMultiScale(roi_img)\n",
    "        if len(eyes)>=2:\n",
    "            return roi_color\n",
    "        # cv2.rectangle(roi_color,(ex,ey),(ex+ew,ey+eh),(0,255,0),2)"
   ],
   "metadata": {
    "collapsed": false,
    "ExecuteTime": {
     "end_time": "2025-05-29T12:49:16.786275100Z",
     "start_time": "2025-05-29T12:49:16.783117Z"
    }
   },
   "id": "1b33a383f412a432"
  },
  {
   "cell_type": "code",
   "execution_count": 17,
   "outputs": [],
   "source": [
    "# cropped_img = get_cropped_image('./Dataset/Lionel Messi/images.jpeg')\n",
    "# plt.imshow(cropped_img)"
   ],
   "metadata": {
    "collapsed": false,
    "ExecuteTime": {
     "end_time": "2025-05-29T12:49:20.042578300Z",
     "start_time": "2025-05-29T12:49:20.012294200Z"
    }
   },
   "id": "b8972f54d41b868e"
  },
  {
   "cell_type": "code",
   "execution_count": 18,
   "outputs": [],
   "source": [
    "path_to_data = \"./Dataset/\"\n",
    "path_to_cropped_data = \"./Dataset/cropped/\""
   ],
   "metadata": {
    "collapsed": false,
    "ExecuteTime": {
     "end_time": "2025-05-29T12:49:22.014108100Z",
     "start_time": "2025-05-29T12:49:21.986334600Z"
    }
   },
   "id": "571ecfc6186dd096"
  },
  {
   "cell_type": "code",
   "execution_count": 19,
   "outputs": [],
   "source": [
    "import os\n",
    "img_dirs=[]\n",
    "for entry in os.scandir(path_to_data):\n",
    "    if entry.is_dir():\n",
    "        img_dirs.append(entry.path)"
   ],
   "metadata": {
    "collapsed": false,
    "ExecuteTime": {
     "end_time": "2025-05-29T12:49:22.409341700Z",
     "start_time": "2025-05-29T12:49:22.408833400Z"
    }
   },
   "id": "d0575b6dcc25f305"
  },
  {
   "cell_type": "code",
   "execution_count": 20,
   "outputs": [
    {
     "name": "stdout",
     "output_type": "stream",
     "text": [
      "['./Dataset/cropped', './Dataset/Due_Lipa', './Dataset/Lionel_Messi', './Dataset/Ronaldo', './Dataset/Selena_Gomez']\n"
     ]
    }
   ],
   "source": [
    "print(img_dirs)"
   ],
   "metadata": {
    "collapsed": false,
    "ExecuteTime": {
     "end_time": "2025-05-29T12:49:22.802546200Z",
     "start_time": "2025-05-29T12:49:22.792783400Z"
    }
   },
   "id": "d17a9ac37059fea6"
  },
  {
   "cell_type": "code",
   "execution_count": 21,
   "outputs": [],
   "source": [
    "if not os.path.exists(path_to_cropped_data):\n",
    "    os.makedirs(path_to_cropped_data)"
   ],
   "metadata": {
    "collapsed": false,
    "ExecuteTime": {
     "end_time": "2025-05-29T12:49:23.274028400Z",
     "start_time": "2025-05-29T12:49:23.272023100Z"
    }
   },
   "id": "2ca5c921aaacdc29"
  },
  {
   "cell_type": "code",
   "execution_count": 22,
   "outputs": [
    {
     "name": "stdout",
     "output_type": "stream",
     "text": [
      "cropped\n",
      "Due_Lipa\n",
      "generating folder:  ./Dataset/cropped/Due_Lipa\n",
      "Lionel_Messi\n",
      "generating folder:  ./Dataset/cropped/Lionel_Messi\n",
      "Ronaldo\n",
      "generating folder:  ./Dataset/cropped/Ronaldo\n",
      "Selena_Gomez\n",
      "generating folder:  ./Dataset/cropped/Selena_Gomez\n"
     ]
    }
   ],
   "source": [
    "cropped_img_dirs = []\n",
    "celebrity_file_name_dict = {}\n",
    "\n",
    "for img_dir in img_dirs:\n",
    "    count = 1\n",
    "    celebrity_name = img_dir.split('/')[-1] #celebrity_name = os.path.basename(img_dir)\n",
    "    print(celebrity_name)\n",
    "    \n",
    "    celebrity_file_name_dict[celebrity_name] = []\n",
    "\n",
    "    for entry in os.scandir(img_dir):\n",
    "        roi_color = get_cropped_image(entry.path)\n",
    "        if roi_color is not None:\n",
    "            cropped_folder = path_to_cropped_data + celebrity_name\n",
    "            if not os.path.exists(cropped_folder):\n",
    "                os.mkdir(cropped_folder)\n",
    "                cropped_img_dirs.append(cropped_folder)\n",
    "                print(\"generating folder: \", cropped_folder)\n",
    "                \n",
    "            cropped_file_name = celebrity_name + str(count) + \".png\"\n",
    "            cropped_file_path = cropped_folder + \"/\" + cropped_file_name\n",
    "            \n",
    "            cv2.imwrite(cropped_file_path,roi_color)\n",
    "            celebrity_file_name_dict[celebrity_name].append(cropped_file_path)\n",
    "            count +=1"
   ],
   "metadata": {
    "collapsed": false,
    "ExecuteTime": {
     "end_time": "2025-05-29T12:49:30.819737400Z",
     "start_time": "2025-05-29T12:49:24.031854300Z"
    }
   },
   "id": "ee5318f9bafdead1"
  },
  {
   "cell_type": "code",
   "execution_count": null,
   "outputs": [],
   "source": [],
   "metadata": {
    "collapsed": false
   },
   "id": "4df6b0a7857c506"
  }
 ],
 "metadata": {
  "kernelspec": {
   "display_name": "Python 3",
   "language": "python",
   "name": "python3"
  },
  "language_info": {
   "codemirror_mode": {
    "name": "ipython",
    "version": 2
   },
   "file_extension": ".py",
   "mimetype": "text/x-python",
   "name": "python",
   "nbconvert_exporter": "python",
   "pygments_lexer": "ipython2",
   "version": "2.7.6"
  }
 },
 "nbformat": 4,
 "nbformat_minor": 5
}
