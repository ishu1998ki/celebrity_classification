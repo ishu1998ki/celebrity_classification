{
 "cells": [
  {
   "cell_type": "code",
   "execution_count": 5,
   "id": "initial_id",
   "metadata": {
    "collapsed": true,
    "ExecuteTime": {
     "end_time": "2025-05-26T11:26:41.700089800Z",
     "start_time": "2025-05-26T11:26:41.674704900Z"
    }
   },
   "outputs": [],
   "source": [
    "import cv2"
   ]
  },
  {
   "cell_type": "code",
   "execution_count": 6,
   "outputs": [],
   "source": [
    "def draw_boundry(img, classifier, scaleFactor, minNeighbors, color, text):\n",
    "    gray_img = cv2.cvtColor(img, cv2.COLOR_BGR2GRAY)\n",
    "    features = classifier.detectMultiScale(gray_img, scaleFactor, minNeighbors)\n",
    "    coords = []\n",
    "    for (x, y, w, h) in features:\n",
    "        cv2.rectangle(img, (x,y), (x + w, y + h), color, 2)\n",
    "        cv2.putText(img, text, (x, y - 4), cv2.FONT_HERSHEY_SIMPLEX, 0.8, color, 1, cv2.LINE_AA)\n",
    "        coords = [x, y, w, h]\n",
    "\n",
    "    return coords\n",
    "\n",
    "def detect(img, faceCascade, eyeCascade):\n",
    "    color = {\"blue\": (255, 0, 0), \"red\": (0, 0, 255), \"green\": (0, 255, 0)}\n",
    "    coords = draw_boundry(img, faceCascade, 1.1, 10, color['blue'], \"Face\")\n",
    "\n",
    "    if len(coords)==4:\n",
    "        roi_img = img[coords[1]:coords[1]+coords[3], coords[0]:coords[0]+coords[2]]\n",
    "        coords = draw_boundry(roi_img, eyeCascade, 1.1, 14, color['red'], \"Eyes\")\n",
    "\n",
    "    return img"
   ],
   "metadata": {
    "collapsed": false,
    "ExecuteTime": {
     "end_time": "2025-05-26T11:26:57.295919400Z",
     "start_time": "2025-05-26T11:26:57.274591300Z"
    }
   },
   "id": "8a524667e5f8de27"
  },
  {
   "cell_type": "code",
   "execution_count": 7,
   "outputs": [],
   "source": [
    "faceCascade = cv2.CascadeClassifier(\"opencv/haarcascade_frontalface_default.xml\")\n",
    "eyeCascade = cv2.CascadeClassifier(\"opencv/haarcascade_eye.xml\")"
   ],
   "metadata": {
    "collapsed": false,
    "ExecuteTime": {
     "end_time": "2025-05-26T11:27:12.906239500Z",
     "start_time": "2025-05-26T11:27:12.857231300Z"
    }
   },
   "id": "1ba9bc18df38fd94"
  },
  {
   "cell_type": "code",
   "execution_count": 8,
   "outputs": [],
   "source": [
    "video_capture = cv2.VideoCapture(0)"
   ],
   "metadata": {
    "collapsed": false,
    "ExecuteTime": {
     "end_time": "2025-05-26T11:27:30.655855900Z",
     "start_time": "2025-05-26T11:27:29.487904300Z"
    }
   },
   "id": "ca920c2813a2d641"
  },
  {
   "cell_type": "code",
   "execution_count": 9,
   "outputs": [],
   "source": [
    "while True:\n",
    "    _, img = video_capture.read()\n",
    "    img = detect(img, faceCascade, eyeCascade)\n",
    "    cv2.imshow(\"Face detection\", img)\n",
    "    if cv2.waitKey(1) & 0xFF == ord('q'):\n",
    "        break\n",
    "\n",
    "video_capture.release()\n",
    "cv2.destroyAllWindows()"
   ],
   "metadata": {
    "collapsed": false,
    "ExecuteTime": {
     "end_time": "2025-05-26T11:28:00.595469300Z",
     "start_time": "2025-05-26T11:27:48.887430300Z"
    }
   },
   "id": "187a1a234c7f2afb"
  },
  {
   "cell_type": "code",
   "execution_count": null,
   "outputs": [],
   "source": [],
   "metadata": {
    "collapsed": false,
    "ExecuteTime": {
     "start_time": "2025-05-26T10:09:26.993455600Z"
    }
   },
   "id": "268117aab783360"
  },
  {
   "cell_type": "code",
   "execution_count": null,
   "outputs": [],
   "source": [],
   "metadata": {
    "collapsed": false
   },
   "id": "d7a2708d22692f95"
  }
 ],
 "metadata": {
  "kernelspec": {
   "display_name": "Python 3",
   "language": "python",
   "name": "python3"
  },
  "language_info": {
   "codemirror_mode": {
    "name": "ipython",
    "version": 2
   },
   "file_extension": ".py",
   "mimetype": "text/x-python",
   "name": "python",
   "nbconvert_exporter": "python",
   "pygments_lexer": "ipython2",
   "version": "2.7.6"
  }
 },
 "nbformat": 4,
 "nbformat_minor": 5
}
